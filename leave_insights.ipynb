# Leave Insights Data Science Project
from google.colab import files
import pandas as pd
import matplotlib.pyplot as plt
import seaborn as sns
from datetime import datetime
import os

# Upload and load the file
uploaded = files.upload()
leave_df = pd.read_csv("leave_data.csv")

# Convert date columns to datetime
# leave_df["leave_start_date"] = pd.to_datetime(leave_df["leave_start_date"])
# leave_df["leave_end_date"] = pd.to_datetime(leave_df["leave_end_date"])
# Convert date columns to datetime with the correct format
leave_df["leave_start_date"] = pd.to_datetime(leave_df["leave_start_date"], dayfirst=True)
leave_df["leave_end_date"] = pd.to_datetime(leave_df["leave_end_date"], dayfirst=True)

# Add derived columns
leave_df["leave_month"] = leave_df["leave_start_date"].dt.month
leave_df["leave_year"] = leave_df["leave_start_date"].dt.year
leave_df["leave_weekday"] = leave_df["leave_start_date"].dt.day_name()

# Duration categories
leave_df["duration_category"] = pd.cut(leave_df["leave_days"],
    bins=[0, 2, 5, 10, 100],
    labels=["Short (1-2)", "Medium (3-5)", "Long (6-10)", "Very Long"]
)

# Create output directory for charts
os.makedirs("charts", exist_ok=True)

# ----------------------------
# Visualization Section
# ----------------------------
sns.set(style="whitegrid")

# 1. Leave Type Distribution
plt.figure(figsize=(10, 5))
sns.countplot(data=leave_df, x="leave_type", order=leave_df["leave_type"].value_counts().index)
plt.title("Distribution of Leave Types")
plt.xticks(rotation=45)
plt.tight_layout()
plt.savefig("charts/leave_type_distribution.png")
plt.close()

# 2. Leave Duration Category
plt.figure(figsize=(8, 5))
sns.countplot(data=leave_df, x="duration_category")
plt.title("Leave Duration Categories")
plt.tight_layout()
plt.savefig("charts/duration_categories.png")
plt.close()

# 3. Monthly Leave Frequency
plt.figure(figsize=(10, 5))
sns.countplot(data=leave_df, x="leave_month")
plt.title("Monthly Leave Frequency")
plt.tight_layout()
plt.savefig("charts/monthly_trend.png")
plt.close()

# 4. Weekday Leave Trend
plt.figure(figsize=(10, 5))
sns.countplot(data=leave_df, x="leave_weekday",
              order=["Monday", "Tuesday", "Wednesday", "Thursday", "Friday", "Saturday", "Sunday"])
plt.title("Weekday Leave Trend")
plt.tight_layout()
plt.savefig("charts/weekday_trend.png")
plt.close()

# 5. Monthly Leave Type Trend (Heatmap)
monthly_type = leave_df.groupby(["leave_month", "leave_type"]).size().unstack(fill_value=0)
plt.figure(figsize=(12, 6))
sns.heatmap(monthly_type, annot=True, fmt="d", cmap="YlGnBu")
plt.title("Monthly Leave Type Trend")
plt.ylabel("Month")
plt.xlabel("Leave Type")
plt.tight_layout()
plt.savefig("charts/monthly_leave_type_trend.png")
plt.close()

# 6. Highest Leave Type by Month
monthly_top_type = leave_df.groupby(["leave_month", "leave_type"]).size().reset_index(name='count')
top_type = monthly_top_type.loc[monthly_top_type.groupby("leave_month")["count"].idxmax()]
top_type.to_csv("charts/top_leave_type_by_month.csv", index=False)

# 7. Leave Count by Department
plt.figure(figsize=(10, 5))
sns.countplot(data=leave_df, x="applicant_department", order=leave_df["applicant_department"].value_counts().index)
plt.title("Leave Count by Department")
plt.tight_layout()
plt.savefig("charts/department_leave_count.png")
plt.close()

# 8. Leave Count by Subdepartment
plt.figure(figsize=(12, 6))
sns.countplot(data=leave_df, y="applicant_subdepartment", order=leave_df["applicant_subdepartment"].value_counts().index)
plt.title("Leave Count by Subdepartment")
plt.tight_layout()
plt.savefig("charts/subdepartment_leave_count.png")
plt.close()

# 9. Department-wise Leave Type Heatmap
dept_leave_type = leave_df.groupby(["applicant_department", "leave_type"]).size().unstack(fill_value=0)
plt.figure(figsize=(12, 6))
sns.heatmap(dept_leave_type, annot=True, fmt="d", cmap="YlOrRd")
plt.title("Department-wise Leave Type Heatmap")
plt.tight_layout()
plt.savefig("charts/department_leave_type_heatmap.png")
plt.close()

# 10. Subdepartment-wise Leave Type Heatmap
subdept_leave_type = leave_df.groupby(["applicant_subdepartment", "leave_type"]).size().unstack(fill_value=0)
plt.figure(figsize=(14, 8))
sns.heatmap(subdept_leave_type, annot=True, fmt="d", cmap="PuBuGn")
plt.title("Subdepartment-wise Leave Type Heatmap")
plt.tight_layout()
plt.savefig("charts/subdepartment_leave_type_heatmap.png")
plt.close()

# ----------------------------
# HTML Report Generation
# ----------------------------
html_template = '''
<!DOCTYPE html>
<html lang="en">
<head>
    <meta charset="UTF-8">
    <meta name="viewport" content="width=device-width, initial-scale=1.0">
    <title>Leave Insights Report</title>
    <link href="https://cdn.jsdelivr.net/npm/bootstrap@5.3.0/dist/css/bootstrap.min.css" rel="stylesheet">
</head>
<body class="bg-light">
    <div class="container py-5">
        <h1 class="mb-4 text-center">Leave Insights Dashboard</h1>

        <div class="row mb-4">
            <div class="col-md-12">
                <h4>Distribution of Leave Types</h4>
                <img src="charts/leave_type_distribution.png" class="img-fluid rounded shadow">
            </div>
        </div>

        <div class="row mb-4">
            <div class="col-md-12">
                <h4>Leave Duration Categories</h4>
                <img src="charts/duration_categories.png" class="img-fluid rounded shadow">
            </div>
        </div>

        <div class="row mb-4">
            <div class="col-md-12">
                <h4>Monthly Leave Frequency</h4>
                <img src="charts/monthly_trend.png" class="img-fluid rounded shadow">
            </div>
        </div>

        <div class="row mb-4">
            <div class="col-md-12">
                <h4>Weekday Leave Trend</h4>
                <img src="charts/weekday_trend.png" class="img-fluid rounded shadow">
            </div>
        </div>

        <div class="row mb-4">
            <div class="col-md-12">
                <h4>Monthly Leave Type Trend</h4>
                <img src="charts/monthly_leave_type_trend.png" class="img-fluid rounded shadow">
            </div>
        </div>

        <div class="row mb-4">
            <div class="col-md-12">
                <h4>Top Leave Type by Month (CSV)</h4>
                <p class="text-muted">CSV file generated: <code>charts/top_leave_type_by_month.csv</code></p>
            </div>
        </div>

        <div class="row mb-4">
            <div class="col-md-12">
                <h4>Leave Count by Department</h4>
                <img src="charts/department_leave_count.png" class="img-fluid rounded shadow">
            </div>
        </div>

        <div class="row mb-4">
            <div class="col-md-12">
                <h4>Leave Count by Subdepartment</h4>
                <img src="charts/subdepartment_leave_count.png" class="img-fluid rounded shadow">
            </div>
        </div>

        <div class="row mb-4">
            <div class="col-md-12">
                <h4>Department-wise Leave Type Heatmap</h4>
                <img src="charts/department_leave_type_heatmap.png" class="img-fluid rounded shadow">
            </div>
        </div>

        <div class="row mb-4">
            <div class="col-md-12">
                <h4>Subdepartment-wise Leave Type Heatmap</h4>
                <img src="charts/subdepartment_leave_type_heatmap.png" class="img-fluid rounded shadow">
            </div>
        </div>
    </div>
</body>
</html>
'''

with open("leave_insights_report.html", "w") as f:
    f.write(html_template)

print("✅ All charts generated and HTML report saved as: leave_insights_report.html")
